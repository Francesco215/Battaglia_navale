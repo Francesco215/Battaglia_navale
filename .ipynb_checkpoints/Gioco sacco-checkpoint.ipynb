{
 "cells": [
  {
   "cell_type": "markdown",
   "metadata": {},
   "source": [
    "## Classe nave: implementa una nave del gioco\n",
    "\n",
    "### Parametri:\n",
    "- capitano: nome del capitano, stringa\n",
    "- lunghezza: lunghezza della nave, int\n",
    "- vita_nave: vita della nave, int\n",
    "- vita_equipaggio: vita dell'equipaggio, int\n",
    "- attacco: attacco della nave, int\n",
    "- furto: punti furto della nave, int  \n",
    "\n",
    "\n",
    "### Metodi:\n",
    "- statistiche() Stampa le statistiche attuali della nave\n",
    "- sperona(nemico, numcelle, scontro_laterale)\n",
    "    Calcola il danno da speronamento della nave contro la nave nemico\n",
    "    - nemico: nave da speronare, nave\n",
    "    - numcelle: numero di celle di rincorsa\n",
    "    - scontro_laterale: Mettere False se lo scontro avviene frontalmente, boolean\n",
    "- arrembaggio(nemico)\n",
    "    Calcola il danno agli equipaggi di un arrembaggio della nave contro la nave nemica\n",
    "    - nemico: nave da arrembare, nave\n",
    "- furto(nemico):\n",
    "    Calcola se la bandiera della nave nemica è rubata durante un furto\n",
    "    - nemico: nave da derubare, nave           "
   ]
  },
  {
   "cell_type": "code",
   "execution_count": 29,
   "metadata": {},
   "outputs": [],
   "source": [
    "from random import randint\n",
    "\n",
    "class nave:\n",
    "    \"\"\"\n",
    "    Implementa una nave del gioco\n",
    "    \n",
    "    Parametri:\n",
    "        - capitano: nome del capitano, stringa\n",
    "        - lunghezza: lunghezza della nave, int\n",
    "        - vita_nave: vita della nave, int\n",
    "        - vita_equipaggio: vita dell'equipaggio, int\n",
    "        - attacco: attacco della nave, int\n",
    "        - furto: punti furto della nave, int\n",
    "        \n",
    "    Metodi:\n",
    "        - statistiche() Stampa le statistiche attuali della nave\n",
    "        - sperona(nemico, numcelle, scontro_laterale)\n",
    "            Calcola il danno da speronamento della nave contro la nave nemico\n",
    "            - nemico: nave da speronare, nave\n",
    "            - numcelle: numero di celle di rincorsa\n",
    "            - scontro_laterale: Mettere False se lo scontro avviene frontalmente, boolean\n",
    "        - arrembaggio(nemico)\n",
    "            Calcola il danno agli equipaggi di un arrembaggio della nave contro la nave nemica\n",
    "            - nemico: nave da arrembare, nave\n",
    "        - furto(nemico):\n",
    "            Calcola se la bandiera della nave nemica è rubata durante un furto\n",
    "            - nemico: nave da derubare, nave           \n",
    "    \"\"\"\n",
    "    def __init__(self, capitano, lunghezza, attacco, furto, row, col):\n",
    "        self.capitano = capitano\n",
    "        self.lunghezza = lunghezza\n",
    "        self.attacco = attacco\n",
    "        self.punti_furto = furto\n",
    "        self.row= row\n",
    "        self.col=col\n",
    " \n",
    "    # se a_cosa=0 il danno è a carico dello scafo, altrimenti il danno è a carico della ciurma\n",
    "    def danneggiamento(self,danno,a_cosa=0):\n",
    "        vita=int(sheet.cell(self.row+4+a_cosa,self.col+1).value)\n",
    "        sheet.update_cell(self.row+4+a_cosa,self.col+1,vita-danno)\n",
    "    \n",
    "    def sperona(self, nemico, numcelle, scontro_laterale=True):\n",
    "        \"\"\"\n",
    "        Calcola il danno da speronamento della nave contro la nave nemico\n",
    "        \"\"\"\n",
    "        danno = self.lunghezza * (numcelle + randint(1,6))\n",
    "        nemico.danneggiamento(danno)\n",
    "        s = \"{} decide di speronare {} prendendo {} celle di rincorsa.\\n\".format(self.capitano, nemico.capitano, numcelle)\n",
    "        if (scontro_laterale == False):\n",
    "            s += \"Tuttavia lo scontro avviene frontalmente danneggiando pure {} per {} di danno\".format(self.capitano, danno)\n",
    "            self.danneggiamento(danno)\n",
    "        print(s)\n",
    "        '''if(vita-danno <= 0):\n",
    "            print(\"Nave di {} affondata!\".format(self.capitano))\n",
    "        if(nemico.vita_nave <= 0):\n",
    "            print(\"Nave di {} affondata!\".format(nemico.capitano))\n",
    "'''\n",
    "\n",
    "    \n",
    "    def arrembaggio(self, nemico):\n",
    "        \"\"\"\n",
    "        Calcola il danno agli equipaggi di un arrembaggio della nave contro la nave nemica\n",
    "        \"\"\"\n",
    "        print('{} decide di arrembare {} con il suo equipaggio!'.format(self.capitano, nemico.capitano))\n",
    "        self.danneggiamento(nemico.attacco+randint(1,20),1)\n",
    "        nemico.danneggiamento(self.attacco+randint(1,20),1)\n",
    "        \"\"\"\n",
    "        if(self.vita_equip <= 0):\n",
    "            print(\"L'equipaggio di {} è morto!\".format(self.capitano))\n",
    "        if(nemico.vita_equip <= 0):\n",
    "            print(\"L'equipaggio di {} è morto!\".format(nemico.capitano))\n",
    "        \"\"\"\n",
    "    \n",
    "    def furto(self, nemico):\n",
    "        \"\"\"\n",
    "        Calcola se la bandiera della nave nemica è rubata durante un furto\n",
    "        \"\"\"\n",
    "        vita_nemico=int(sheet.cell(nemico.row+5,self.col+1).value)\n",
    "        self.danneggiamento(20,1)\n",
    "        if ((randint(1,20) + self.punti_furto - nvita_nemico) > 0):\n",
    "            print(\"{} ha catturato la bandiera di {}!\".format(self.capitano, nemico.capitano))\n",
    "            nemico.danneggiamento(vita_nemico,1)\n",
    "        else:\n",
    "            print(\"{} non è riuscito a catturare la bandiera di {}\".format(self.capitano, nemico.capitano))"
   ]
  },
  {
   "cell_type": "markdown",
   "metadata": {},
   "source": [
    "# Fogli di Google\n",
    "\n",
    "Questo pezzo di codice serve per la comunicazione con i fogli di google"
   ]
  },
  {
   "cell_type": "code",
   "execution_count": 30,
   "metadata": {},
   "outputs": [],
   "source": [
    "import gspread\n",
    "from oauth2client.service_account import ServiceAccountCredentials\n",
    "scope = ['https://spreadsheets.google.com/feeds',\n",
    "         'https://www.googleapis.com/auth/drive']\n",
    "creds = ServiceAccountCredentials.from_json_keyfile_name('Battaglia navale-e85b38e0bd58.json',scope)\n",
    "client = gspread.authorize(creds)\n",
    "sheet = client.open(\"CLB\").sheet1"
   ]
  },
  {
   "cell_type": "code",
   "execution_count": 31,
   "metadata": {},
   "outputs": [],
   "source": [
    "def init_capitano(riga,colonna):\n",
    "    capitano=sheet.cell(riga,colonna+1).value\n",
    "    lunghezza=int(sheet.cell(riga+1,colonna+1).value)\n",
    "    vita_nave=int(sheet.cell(riga+4,colonna+1).value)\n",
    "    vita_equip=int(sheet.cell(riga+5,colonna+1).value)\n",
    "    attacco=int(sheet.cell(riga+6,colonna+1).value)\n",
    "    furto=int(sheet.cell(riga+7,colonna+1).value)\n",
    "    bandiere=int(sheet.cell(riga+8,colonna+1).value)\n",
    "    return nave(capitano,lunghezza, attacco, furto, riga, colonna)\n",
    "\n",
    "Capitani=sheet.findall('Capitano')\n",
    "for i in range(len(Capitani)):\n",
    "    temp=init_capitano(Capitani[i].row,Capitani[i].col)\n",
    "    exec(temp.capitano+'=temp')"
   ]
  },
  {
   "cell_type": "code",
   "execution_count": 34,
   "metadata": {},
   "outputs": [
    {
     "name": "stdout",
     "output_type": "stream",
     "text": [
      "1\n",
      "Tanielo decide di arrembare Sidra con il suo equipaggio!\n"
     ]
    }
   ],
   "source": [
    "print(Pippo.lunghezza)\n",
    "Tanielo.arrembaggio(Sidra)"
   ]
  },
  {
   "cell_type": "code",
   "execution_count": 36,
   "metadata": {},
   "outputs": [
    {
     "name": "stdout",
     "output_type": "stream",
     "text": [
      "Tiz decide di arrembare Lorenzo con il suo equipaggio!\n"
     ]
    }
   ],
   "source": [
    "Tiz.arrembaggio(Lorenzo)"
   ]
  },
  {
   "cell_type": "code",
   "execution_count": null,
   "metadata": {},
   "outputs": [],
   "source": []
  }
 ],
 "metadata": {
  "kernelspec": {
   "display_name": "Python 3",
   "language": "python",
   "name": "python3"
  },
  "language_info": {
   "codemirror_mode": {
    "name": "ipython",
    "version": 3
   },
   "file_extension": ".py",
   "mimetype": "text/x-python",
   "name": "python",
   "nbconvert_exporter": "python",
   "pygments_lexer": "ipython3",
   "version": "3.7.4"
  }
 },
 "nbformat": 4,
 "nbformat_minor": 4
}
