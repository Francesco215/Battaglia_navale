{
 "cells": [
  {
   "cell_type": "markdown",
   "metadata": {},
   "source": [
    "## Classe nave: implementa una nave del gioco\n",
    "\n",
    "### Parametri:\n",
    "- capitano: nome del capitano, stringa\n",
    "- lunghezza: lunghezza della nave, int\n",
    "- vita_nave: vita della nave, int\n",
    "- vita_equipaggio: vita dell'equipaggio, int\n",
    "- attacco: attacco della nave, int\n",
    "- furto: punti furto della nave, int  \n",
    "\n",
    "\n",
    "### Metodi:\n",
    "- statistiche() Stampa le statistiche attuali della nave\n",
    "- sperona(nemico, numcelle, scontro_laterale)\n",
    "    Calcola il danno da speronamento della nave contro la nave nemico\n",
    "    - nemico: nave da speronare, nave\n",
    "    - numcelle: numero di celle di rincorsa\n",
    "    - scontro_laterale: Mettere False se lo scontro avviene frontalmente, boolean\n",
    "- arrembaggio(nemico)\n",
    "    Calcola il danno agli equipaggi di un arrembaggio della nave contro la nave nemica\n",
    "    - nemico: nave da arrembare, nave\n",
    "- furto(nemico):\n",
    "    Calcola se la bandiera della nave nemica è rubata durante un furto\n",
    "    - nemico: nave da derubare, nave           "
   ]
  },
  {
   "cell_type": "code",
   "execution_count": 41,
   "metadata": {},
   "outputs": [],
   "source": [
    "from random import randint\n",
    "\n",
    "class nave:\n",
    "    \"\"\"\n",
    "    Implementa una nave del gioco\n",
    "    \n",
    "    Parametri:\n",
    "        - capitano: nome del capitano, stringa\n",
    "        - lunghezza: lunghezza della nave, int\n",
    "        - vita_nave: vita della nave, int\n",
    "        - vita_equipaggio: vita dell'equipaggio, int\n",
    "        - attacco: attacco della nave, int\n",
    "        - furto: punti furto della nave, int\n",
    "        \n",
    "    Metodi:\n",
    "        - statistiche() Stampa le statistiche attuali della nave\n",
    "        - sperona(nemico, numcelle, scontro_laterale)\n",
    "            Calcola il danno da speronamento della nave contro la nave nemico\n",
    "            - nemico: nave da speronare, nave\n",
    "            - numcelle: numero di celle di rincorsa\n",
    "            - scontro_laterale: Mettere False se lo scontro avviene frontalmente, boolean\n",
    "        - arrembaggio(nemico)\n",
    "            Calcola il danno agli equipaggi di un arrembaggio della nave contro la nave nemica\n",
    "            - nemico: nave da arrembare, nave\n",
    "        - furto(nemico):\n",
    "            Calcola se la bandiera della nave nemica è rubata durante un furto\n",
    "            - nemico: nave da derubare, nave           \n",
    "    \"\"\"\n",
    "    def __init__(self, capitano, lunghezza, vita_nave, vita_equipaggio, attacco, furto, bandiere):\n",
    "        self.capitano = capitano\n",
    "        self.lunghezza = lunghezza\n",
    "        self.vita_nave = vita_nave\n",
    "        self.vita_equip = vita_equipaggio\n",
    "        self.attacco = attacco\n",
    "        self.punti_furto = furto\n",
    "        self.bandiere = bandiere\n",
    "    \n",
    "    def statistiche(self):\n",
    "        \"\"\"\n",
    "        Stampa le statistiche attuali della nave\n",
    "        \"\"\"\n",
    "        s = \"\"\"Nave di {}:\\nPunti vita nave: {}\\nPunti vita equipaggio: {}\"\"\".format(self.capitano, self.vita_nave, self.vita_equip)\n",
    "        print(s)\n",
    "    \n",
    "    def sperona(self, nemico, numcelle, scontro_laterale=True):\n",
    "        \"\"\"\n",
    "        Calcola il danno da speronamento della nave contro la nave nemico\n",
    "        \"\"\"\n",
    "        danno = self.lunghezza * (numcelle + randint(1,6))\n",
    "        nemico.vita_nave -= danno\n",
    "        if (scontro_laterale == False):\n",
    "            s = \"{} decide di speronare {} prendendo {} celle di rincorsa.\\n\".format(self.capitano, nemico.capitano, numcelle)\n",
    "            s += \"Tuttavia lo scontro avviene frontalmente danneggiando pure {} per {} di danno\".format(self.capitano, danno)\n",
    "            print(s)\n",
    "            self.vita_nave -= danno\n",
    "        else:\n",
    "            s = \"{} decide di speronare {} prendendo {} celle di rincorsa e causando {} di danno\".format(self.capitano, nemico.capitano, numcelle, danno)\n",
    "            print(s)\n",
    "        if(self.vita_nave <= 0):\n",
    "            print(\"Nave di {} affondata!\".format(self.capitano))\n",
    "        if(nemico.vita_nave <= 0):\n",
    "            print(\"Nave di {} affondata!\".format(nemico.capitano))\n",
    "        \n",
    "        self.statistiche()\n",
    "        nemico.statistiche()\n",
    "        print(\"\")\n",
    "    \n",
    "    def arrembaggio(self, nemico):\n",
    "        \"\"\"\n",
    "        Calcola il danno agli equipaggi di un arrembaggio della nave contro la nave nemica\n",
    "        \"\"\"\n",
    "        print(\"{} decide di arrembare {} con il suo equipaggio!\".format(self.capitano, nemico.capitano))\n",
    "        self.vita_equip -= nemico.attacco + randint(1,20)\n",
    "        nemico.vita_equip -= self.attacco + randint(1,20)\n",
    "        if(self.vita_equip <= 0):\n",
    "            print(\"L'equipaggio di {} è morto!\".format(self.capitano))\n",
    "        if(nemico.vita_equip <= 0):\n",
    "            print(\"L'equipaggio di {} è morto!\".format(nemico.capitano))\n",
    "        self.statistiche()\n",
    "        nemico.statistiche()\n",
    "        print(\"\")\n",
    "    \n",
    "    def furto(self, nemico):\n",
    "        \"\"\"\n",
    "        Calcola se la bandiera della nave nemica è rubata durante un furto\n",
    "        \"\"\"\n",
    "        if ((randint(1,20) + self.punti_furto - nemico.vita_equip) > 0):\n",
    "            print(\"{} ha catturato la bandiera di {}!\".format(self.capitano, nemico.capitano))\n",
    "        else:\n",
    "            print(\"{} non è riuscito a catturare la bandiera di {}\".format(self.capitano, nemico.capitano))"
   ]
  },
  {
   "cell_type": "code",
   "execution_count": 42,
   "metadata": {},
   "outputs": [
    {
     "ename": "TypeError",
     "evalue": "__init__() missing 1 required positional argument: 'bandiere'",
     "output_type": "error",
     "traceback": [
      "\u001b[0;31m---------------------------------------------------------------------\u001b[0m",
      "\u001b[0;31mTypeError\u001b[0m                           Traceback (most recent call last)",
      "\u001b[0;32m<ipython-input-42-114c0bd14d0d>\u001b[0m in \u001b[0;36m<module>\u001b[0;34m\u001b[0m\n\u001b[0;32m----> 1\u001b[0;31m \u001b[0mtiziano\u001b[0m \u001b[0;34m=\u001b[0m \u001b[0mnave\u001b[0m\u001b[0;34m(\u001b[0m\u001b[0;34m\"Tiziano\"\u001b[0m\u001b[0;34m,\u001b[0m \u001b[0;36m1\u001b[0m\u001b[0;34m,\u001b[0m \u001b[0;36m7\u001b[0m\u001b[0;34m,\u001b[0m \u001b[0;36m60\u001b[0m\u001b[0;34m,\u001b[0m \u001b[0;36m15\u001b[0m\u001b[0;34m,\u001b[0m \u001b[0;36m50\u001b[0m\u001b[0;34m)\u001b[0m \u001b[0;31m# Inizializzazione della nave di Tiziano\u001b[0m\u001b[0;34m\u001b[0m\u001b[0;34m\u001b[0m\u001b[0m\n\u001b[0m\u001b[1;32m      2\u001b[0m \u001b[0mlorenzo\u001b[0m \u001b[0;34m=\u001b[0m \u001b[0mnave\u001b[0m\u001b[0;34m(\u001b[0m\u001b[0;34m\"Lorenzo\"\u001b[0m\u001b[0;34m,\u001b[0m \u001b[0;36m1\u001b[0m\u001b[0;34m,\u001b[0m \u001b[0;36m10\u001b[0m\u001b[0;34m,\u001b[0m \u001b[0;36m70\u001b[0m\u001b[0;34m,\u001b[0m \u001b[0;36m20\u001b[0m\u001b[0;34m,\u001b[0m \u001b[0;36m30\u001b[0m\u001b[0;34m)\u001b[0m \u001b[0;31m# Inizializzazione della nave di Lorenzo\u001b[0m\u001b[0;34m\u001b[0m\u001b[0;34m\u001b[0m\u001b[0m\n",
      "\u001b[0;31mTypeError\u001b[0m: __init__() missing 1 required positional argument: 'bandiere'"
     ]
    }
   ],
   "source": [
    "tiziano = nave(\"Tiziano\", 1, 7, 60, 15, 50) # Inizializzazione della nave di Tiziano\n",
    "lorenzo = nave(\"Lorenzo\", 1, 10, 70, 20, 30) # Inizializzazione della nave di Lorenzo"
   ]
  },
  {
   "cell_type": "code",
   "execution_count": 43,
   "metadata": {},
   "outputs": [
    {
     "name": "stdout",
     "output_type": "stream",
     "text": [
      "Tiziano decide di speronare Lorenzo prendendo 4 celle di rincorsa e causando 6 di danno\n",
      "Nave di Lorenzo affondata!\n",
      "Nave di Tiziano:\n",
      "Punti vita nave: 7\n",
      "Punti vita equipaggio: 27\n",
      "Nave di Lorenzo:\n",
      "Punti vita nave: -1\n",
      "Punti vita equipaggio: 46\n",
      "\n",
      "Tiziano decide di arrembare Lorenzo con il suo equipaggio!\n",
      "Nave di Tiziano:\n",
      "Punti vita nave: 7\n",
      "Punti vita equipaggio: 5\n",
      "Nave di Lorenzo:\n",
      "Punti vita nave: -1\n",
      "Punti vita equipaggio: 23\n",
      "\n",
      "Lorenzo ha catturato la bandiera di Tiziano!\n"
     ]
    }
   ],
   "source": [
    "tiziano.sperona(lorenzo, 4)\n",
    "tiziano.arrembaggio(lorenzo)\n",
    "lorenzo.furto(tiziano)"
   ]
  },
  {
   "cell_type": "markdown",
   "metadata": {},
   "source": [
    "# Fogli di Google\n",
    "\n",
    "Questo pezzo di codice serve per la comunicazione con i fogli di google"
   ]
  },
  {
   "cell_type": "code",
   "execution_count": 44,
   "metadata": {},
   "outputs": [],
   "source": [
    "import gspread\n",
    "from oauth2client.service_account import ServiceAccountCredentials\n",
    "scope = ['https://spreadsheets.google.com/feeds',\n",
    "         'https://www.googleapis.com/auth/drive']\n",
    "creds = ServiceAccountCredentials.from_json_keyfile_name('Battaglia navale-e85b38e0bd58.json',scope)\n",
    "client = gspread.authorize(creds)\n",
    "sheet = client.open(\"CLB\").sheet1"
   ]
  },
  {
   "cell_type": "code",
   "execution_count": 54,
   "metadata": {},
   "outputs": [],
   "source": [
    "def init_capitano(riga,colonna):\n",
    "    capitano=sheet.cell(riga,colonna+1).value\n",
    "    lunghezza=sheet.cell(riga+1,colonna+1).value\n",
    "    vita_nave=sheet.cell(riga+4,colonna+1).value\n",
    "    vita_equip=sheet.cell(riga+5,colonna+1).value\n",
    "    attacco=sheet.cell(riga+6,colonna+1).value\n",
    "    furto=sheet.cell(riga+7,colonna+1).value\n",
    "    bandiere=sheet.cell(riga+8,colonna+1).value\n",
    "    return nave(capitano,lunghezza,vita_nave,vita_equip,attacco,furto,bandiere)\n",
    "\n",
    "Capitani=sheet.findall('Capitano')\n",
    "for i in range(len(Capitani)):\n",
    "    temp=init_capitano(Capitani[i].row,Capitani[i].col)\n",
    "    exec(temp.capitano+'=temp')"
   ]
  },
  {
   "cell_type": "code",
   "execution_count": 56,
   "metadata": {},
   "outputs": [
    {
     "name": "stdout",
     "output_type": "stream",
     "text": [
      "1\n",
      "12\n"
     ]
    }
   ],
   "source": [
    "print(Pippo.lunghezza)\n",
    "print(Sacco.vita_nave)"
   ]
  },
  {
   "cell_type": "code",
   "execution_count": null,
   "metadata": {},
   "outputs": [],
   "source": []
  }
 ],
 "metadata": {
  "kernelspec": {
   "display_name": "Python 3",
   "language": "python",
   "name": "python3"
  },
  "language_info": {
   "codemirror_mode": {
    "name": "ipython",
    "version": 3
   },
   "file_extension": ".py",
   "mimetype": "text/x-python",
   "name": "python",
   "nbconvert_exporter": "python",
   "pygments_lexer": "ipython3",
   "version": "3.7.4"
  }
 },
 "nbformat": 4,
 "nbformat_minor": 4
}
